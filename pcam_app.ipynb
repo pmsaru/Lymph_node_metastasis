{
 "cells": [
  {
   "cell_type": "code",
   "execution_count": 4,
   "id": "08d829af-b911-491e-9506-874bb05b53cf",
   "metadata": {},
   "outputs": [],
   "source": [
    "import fastbook\n",
    "fastbook.setup_book()\n",
    "from fastai.vision import *\n",
    "from fastbook import *\n",
    "from fastai.vision.widgets import *# path = Path('/home/anand/Data/mss-msi/')\n"
   ]
  },
  {
   "cell_type": "code",
   "execution_count": 10,
   "id": "ea8aa377-d92a-4730-9539-2eb437bae86c",
   "metadata": {},
   "outputs": [
    {
     "data": {
      "application/vnd.jupyter.widget-view+json": {
       "model_id": "323d0d087d8c47a6a3cd4a60c80c3361",
       "version_major": 2,
       "version_minor": 0
      },
      "text/plain": [
       "VBox(children=(Label(value='Select a test Lymph node Image'), FileUpload(value={}, description='Upload'), Butt…"
      ]
     },
     "metadata": {},
     "output_type": "display_data"
    }
   ],
   "source": [
    "# load the mode first \n",
    "path = Path('models')\n",
    "learn_inf = load_learner(path/'export.pkl')\n",
    "learn_inf.dls.vocab\n",
    "btn_run = widgets.Button(description='Classify')\n",
    "def on_click_classify(change):\n",
    "    img = PILImage.create(btn_upload.data[-1])\n",
    "    out_pl.clear_output()\n",
    "    with out_pl: display(img.to_thumb(128,128))\n",
    "    pred,pred_idx,probs = learn_inf.predict(img)\n",
    "#     if pred==0:\n",
    "#         lbl='Non_Metastatic'\n",
    "#     else:\n",
    "#         lbl='Metstatic'\n",
    "#     print(f'Prediction: {lbl}; Probability: {probs[pred_idx]:.04f}')\n",
    "    lbl_pred.value = f'Prediction: {pred}; Probability: {probs[pred_idx]:.04f}'\n",
    "\n",
    "btn_run.on_click(on_click_classify)\n",
    "btn_upload = widgets.FileUpload()\n",
    "out_pl = widgets.Output()\n",
    "lbl_pred = widgets.Label()\n",
    "VBox([widgets.Label('Select a test Lymph node Image'),btn_upload, btn_run, out_pl, lbl_pred])\n",
    "\n"
   ]
  },
  {
   "cell_type": "code",
   "execution_count": 3,
   "id": "d6e40eb7-a141-4b6f-811d-7691def5d7dc",
   "metadata": {},
   "outputs": [
    {
     "name": "stdout",
     "output_type": "stream",
     "text": [
      "['0', '1']\n"
     ]
    }
   ],
   "source": [
    "print(learn_inf.dls.vocab)"
   ]
  },
  {
   "cell_type": "code",
   "execution_count": null,
   "id": "d62572a6-81f5-4329-bf17-94adf9753f89",
   "metadata": {},
   "outputs": [],
   "source": []
  }
 ],
 "metadata": {
  "kernelspec": {
   "display_name": "Python 3",
   "language": "python",
   "name": "python3"
  },
  "language_info": {
   "codemirror_mode": {
    "name": "ipython",
    "version": 3
   },
   "file_extension": ".py",
   "mimetype": "text/x-python",
   "name": "python",
   "nbconvert_exporter": "python",
   "pygments_lexer": "ipython3",
   "version": "3.8.8"
  }
 },
 "nbformat": 4,
 "nbformat_minor": 5
}
